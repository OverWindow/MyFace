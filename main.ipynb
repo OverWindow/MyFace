{
 "cells": [
  {
   "attachments": {},
   "cell_type": "markdown",
   "metadata": {},
   "source": [
    "Putting JPG Names to myface \"me\" "
   ]
  },
  {
   "cell_type": "code",
   "execution_count": 7,
   "metadata": {},
   "outputs": [],
   "source": [
    "import os \n",
    "\n",
    "folder = \"train_me\"\n",
    "for count,filename in enumerate(os.listdir(folder)):\n",
    "    dst = f\"me{count:03}.jpg\"\n",
    "    src = f\"{folder}/{filename}\"\n",
    "    dst = f\"{folder}/{dst}\"\n",
    "\n",
    "    os.rename(src,dst)"
   ]
  },
  {
   "attachments": {},
   "cell_type": "markdown",
   "metadata": {},
   "source": [
    "Putting JPG Names to not my face \"notme\""
   ]
  },
  {
   "cell_type": "code",
   "execution_count": 8,
   "metadata": {},
   "outputs": [],
   "source": [
    "import os \n",
    "\n",
    "folder = \"train_notme\"\n",
    "for count,filename in enumerate(os.listdir(folder)):\n",
    "    dst = f\"notme{count:03}.jpg\"\n",
    "    src = f\"{folder}/{filename}\"\n",
    "    dst = f\"{folder}/{dst}\"\n",
    "\n",
    "    os.rename(src,dst)"
   ]
  },
  {
   "cell_type": "code",
   "execution_count": 3,
   "metadata": {},
   "outputs": [],
   "source": [
    "import cv2\n",
    "import numpy as np\n",
    "from matplotlib import pyplot as plt\n",
    "\n",
    "img = cv2.imread('face1.jpg',cv2.IMREAD_GRAYSCALE)\n",
    "cv2.rectangle(img,(15,25),(200,150),(0,0,255),5)\n",
    "cv2.imshow('image',img)\n",
    "cv2.waitKey(0)\n",
    "cv2.destroyAllWindows()"
   ]
  },
  {
   "cell_type": "code",
   "execution_count": 26,
   "metadata": {},
   "outputs": [
    {
     "name": "stdout",
     "output_type": "stream",
     "text": [
      "1/1 [==============================] - 1s 1s/step\n",
      "Class: me\n",
      "Confidence Score: 88 %\n",
      "1/1 [==============================] - 0s 75ms/step\n",
      "Class: me\n",
      "Confidence Score: 99 %\n",
      "1/1 [==============================] - 0s 42ms/step\n",
      "Class: notme\n",
      "Confidence Score: 95 %\n",
      "1/1 [==============================] - 0s 42ms/step\n",
      "Class: notme\n",
      "Confidence Score: 86 %\n",
      "1/1 [==============================] - 0s 42ms/step\n",
      "Class: me\n",
      "Confidence Score: 89 %\n",
      "1/1 [==============================] - 0s 42ms/step\n",
      "Class: me\n",
      "Confidence Score: 95 %\n",
      "1/1 [==============================] - 0s 41ms/step\n",
      "Class: me\n",
      "Confidence Score: 74 %\n",
      "1/1 [==============================] - 0s 86ms/step\n",
      "Class: me\n",
      "Confidence Score: 95 %\n",
      "1/1 [==============================] - 0s 47ms/step\n",
      "Class: me\n",
      "Confidence Score: 81 %\n",
      "1/1 [==============================] - 0s 53ms/step\n",
      "Class: me\n",
      "Confidence Score: 97 %\n"
     ]
    }
   ],
   "source": [
    "from keras.models import load_model  # TensorFlow is required for Keras to work\n",
    "import cv2  # Install opencv-python\n",
    "import numpy as np\n",
    "import time\n",
    "\n",
    "# Disable scientific notation for clarity\n",
    "np.set_printoptions(suppress=True)\n",
    "\n",
    "# Load the model\n",
    "model = load_model(\"keras_Model.h5\", compile=False)\n",
    "\n",
    "# Load the labels\n",
    "class_names = open(\"labels.txt\", \"r\").readlines()\n",
    "\n",
    "# CAMERA can be 0 or 1 based on default camera of your computer\n",
    "camera = cv2.VideoCapture(0)\n",
    "\n",
    "while True:\n",
    "    # Grab the webcamera's image.\n",
    "    ret, image = camera.read()\n",
    "    \n",
    "    # In case, your camera reads images as non-number\n",
    "    image = np.array(image).astype(\"float32\")\n",
    "\n",
    "    # Resize the raw image into (224-height,224-width) pixels\n",
    "    image = cv2.resize(image, (224, 224), interpolation=cv2.INTER_AREA)\n",
    "    \n",
    "    # Making it a little darker for me to see\n",
    "    image = (image*0.5).astype(np.uint8)\n",
    "\n",
    "    # Show the image in a window\n",
    "    cv2.imshow(\"Webcam Image\", image)\n",
    "\n",
    "    # Make the image a numpy array and reshape it to the models input shape.\n",
    "    image = np.asarray(image, dtype=np.float32).reshape(1, 224, 224, 3)\n",
    "\n",
    "    # Normalize the image array\n",
    "    image = (image / 127.5) - 1\n",
    "\n",
    "    # Predicts the model\n",
    "    prediction = model.predict(image)\n",
    "    index = np.argmax(prediction)\n",
    "    class_name = class_names[index]\n",
    "    confidence_score = prediction[0][index]\n",
    "\n",
    "    # Print prediction and confidence score\n",
    "    print(\"Class:\", class_name[2:], end=\"\")\n",
    "    print(\"Confidence Score:\", str(np.round(confidence_score * 100))[:-2], \"%\")\n",
    "\n",
    "    # Listen to the keyboard for presses.\n",
    "    keyboard_input = cv2.waitKey(1)\n",
    "\n",
    "    # 27 is the ASCII for the esc key on your keyboard.\n",
    "    if keyboard_input == 27:\n",
    "        break\n",
    "    time.sleep(3)\n",
    "    \n",
    "camera.release()\n",
    "cv2.destroyAllWindows()\n"
   ]
  },
  {
   "cell_type": "code",
   "execution_count": null,
   "metadata": {},
   "outputs": [],
   "source": []
  }
 ],
 "metadata": {
  "kernelspec": {
   "display_name": "Python 3",
   "language": "python",
   "name": "python3"
  },
  "language_info": {
   "codemirror_mode": {
    "name": "ipython",
    "version": 3
   },
   "file_extension": ".py",
   "mimetype": "text/x-python",
   "name": "python",
   "nbconvert_exporter": "python",
   "pygments_lexer": "ipython3",
   "version": "3.8.9"
  },
  "orig_nbformat": 4
 },
 "nbformat": 4,
 "nbformat_minor": 2
}
